{
 "cells": [
  {
   "cell_type": "code",
   "execution_count": 2,
   "metadata": {},
   "outputs": [
    {
     "name": "stdout",
     "output_type": "stream",
     "text": [
      "Requirement already satisfied: pyccel in /home/abdelbasset/.local/lib/python3.8/site-packages (1.0.0)\n",
      "Requirement already satisfied: numpy in /home/abdelbasset/.local/lib/python3.8/site-packages (from pyccel) (1.19.4)\n",
      "Requirement already satisfied: termcolor in /home/abdelbasset/.local/lib/python3.8/site-packages (from pyccel) (1.1.0)\n",
      "Requirement already satisfied: sympy>=1.2 in /home/abdelbasset/.local/lib/python3.8/site-packages (from pyccel) (1.7)\n",
      "Requirement already satisfied: textx>=1.6 in /home/abdelbasset/.local/lib/python3.8/site-packages (from pyccel) (2.3.0)\n",
      "Requirement already satisfied: mpmath>=0.19 in /home/abdelbasset/.local/lib/python3.8/site-packages (from sympy>=1.2->pyccel) (1.1.0)\n",
      "Requirement already satisfied: Arpeggio>=1.9.0 in /home/abdelbasset/.local/lib/python3.8/site-packages (from textx>=1.6->pyccel) (1.10.1)\n",
      "Note: you may need to restart the kernel to use updated packages.\n"
     ]
    }
   ],
   "source": [
    "pip install pyccel"
   ]
  }
 ],
 "metadata": {
  "kernelspec": {
   "display_name": "Python 3",
   "language": "python",
   "name": "python3"
  },
  "language_info": {
   "codemirror_mode": {
    "name": "ipython",
    "version": 3
   },
   "file_extension": ".py",
   "mimetype": "text/x-python",
   "name": "python",
   "nbconvert_exporter": "python",
   "pygments_lexer": "ipython3",
   "version": "3.8.5"
  }
 },
 "nbformat": 4,
 "nbformat_minor": 4
}
