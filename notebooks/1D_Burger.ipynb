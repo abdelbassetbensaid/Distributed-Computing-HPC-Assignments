{
 "cells": [
  {
   "cell_type": "markdown",
   "metadata": {},
   "source": [
    "## Imports"
   ]
  },
  {
   "cell_type": "code",
   "execution_count": 1,
   "metadata": {},
   "outputs": [],
   "source": [
    "import numpy as np\n",
    "import sympy as sp\n",
    "from sympy.utilities.lambdify import lambdify\n",
    "\n",
    "from sympy import init_printing\n",
    "init_printing(use_latex=True)\n",
    "import matplotlib.pyplot as plt\n",
    "\n",
    "#fill the libraries import\n",
    "import time\n",
    "from numba import njit\n",
    "from pyccel.epyccel import epyccel\n",
    "from pyccel.decorators import types"
   ]
  },
  {
   "cell_type": "markdown",
   "metadata": {},
   "source": [
    "## Pure python function"
   ]
  },
  {
   "cell_type": "code",
   "execution_count": 17,
   "metadata": {},
   "outputs": [],
   "source": [
    "def solve_1d_burger_pure(u, un, nt, nx, dt, dx, nu):\n",
    "    #fill the update of u\n",
    "    #...\n",
    "    for n in range(nt):\n",
    "        for i in range(1,nx-1):\n",
    "            u[i]=u[i]-dt/dx *(un[i]-un[i-1]) + nu*dt/dx**2 *(u[i+1]-2*u[i]+u[i-1])   \n",
    "    return 0"
   ]
  },
  {
   "cell_type": "markdown",
   "metadata": {},
   "source": [
    "## Numba accelerator"
   ]
  },
  {
   "cell_type": "code",
   "execution_count": 21,
   "metadata": {},
   "outputs": [],
   "source": [
    "@njit(fastmath=True)\n",
    "#solve_1d_burger_numba(u, un, nt, nx, dt, dx, nu)\n",
    "def solve_1d_burger_numba(u, un, nt, nx, dt, dx, nu):\n",
    "    for n in range(nt):\n",
    "        for i in range(1,nx-1):\n",
    "            u[i]=u[i]-dt/dx *(un[i]-un[i-1]) + nu*dt/dx**2 *(u[i+1]-2*u[i]+u[i-1])           \n",
    "    return 0"
   ]
  },
  {
   "cell_type": "markdown",
   "metadata": {},
   "source": [
    "## Pyccel accelerator"
   ]
  },
  {
   "cell_type": "code",
   "execution_count": 23,
   "metadata": {},
   "outputs": [],
   "source": [
    "@types('float[:]', 'float[:]', 'int', 'int', 'float','float', 'float')\n",
    "def solve_1d_burger_pyccel(u, un, nt, nx, dt, dx, nu):\n",
    "    for n in range(nt):\n",
    "        for i in range(1,nx-1):\n",
    "            u[i]=u[i]-dt/dx *(un[i]-un[i-1]) + nu*dt/dx**2 *(u[i+1]-2*u[i]+u[i-1])           \n",
    "    return 0"
   ]
  },
  {
   "cell_type": "markdown",
   "metadata": {},
   "source": [
    "## Inputs"
   ]
  },
  {
   "cell_type": "code",
   "execution_count": 24,
   "metadata": {},
   "outputs": [],
   "source": [
    "#sympy computation\n",
    "x, nu, t = sp.symbols('x nu t')\n",
    "phi = (sp.exp(-(x - 4 * t)**2 / (4 * nu * (t + 1))) +\n",
    "       sp.exp(-(x - 4 * t - 2 * sp.pi)**2 / (4 * nu * (t + 1))))\n",
    "\n",
    "phiprime = phi.diff(x)\n",
    "u = -2 * nu * (phiprime / phi) + 4\n",
    "ufunc = lambdify((t, x, nu), u)"
   ]
  },
  {
   "cell_type": "code",
   "execution_count": 25,
   "metadata": {},
   "outputs": [],
   "source": [
    "###variable declarations\n",
    "nx = 201\n",
    "nt = 100\n",
    "dx = 2 * np.pi / (nx - 1)\n",
    "nu = .07\n",
    "dt = dx * nu\n",
    "\n",
    "x = np.linspace(0, 2 * np.pi, nx)\n",
    "un = np.empty(nx)\n",
    "t = 0"
   ]
  },
  {
   "cell_type": "markdown",
   "metadata": {},
   "source": [
    "## Plot initial condition"
   ]
  },
  {
   "cell_type": "code",
   "execution_count": 26,
   "metadata": {},
   "outputs": [
    {
     "data": {
      "image/png": "[encoded data removed]",
      "text/plain": [
       "<Figure size 432x288 with 1 Axes>"
      ]
     },
     "metadata": {
      "needs_background": "light"
     },
     "output_type": "display_data"
    }
   ],
   "source": [
    "u = np.asarray([ufunc(t, x0, nu) for x0 in x])\n",
    "plt.figure()\n",
    "plt.plot(x, u, marker='o', lw=2)\n",
    "plt.xlim([0, 2 * np.pi])\n",
    "plt.ylim([0, 10]);"
   ]
  },
  {
   "cell_type": "code",
   "execution_count": 27,
   "metadata": {},
   "outputs": [
    {
     "data": {
      "image/png": "[encoded data removed]",
      "text/plain": [
       "<Figure size 432x288 with 1 Axes>"
      ]
     },
     "metadata": {
      "needs_background": "light"
     },
     "output_type": "display_data"
    }
   ],
   "source": [
    "solve_1d_burger_pure(u, un, nt, nx, dt, dx, nu)\n",
    "\n",
    "# Analytical solution\n",
    "u_analytical = np.asarray([ufunc(nt * dt, xi, nu) for xi in x])\n",
    "\n",
    "\n",
    "#Plotting data\n",
    "plt.figure()\n",
    "plt.plot(x,u, marker='o', lw=2, label='Computational')\n",
    "plt.plot(x, u_analytical, label='Analytical')\n",
    "plt.xlim([0, 2 * np.pi])\n",
    "plt.ylim([0, 10])\n",
    "plt.legend();"
   ]
  },
  {
   "cell_type": "markdown",
   "metadata": {},
   "source": [
    "## Call Funtions"
   ]
  },
  {
   "cell_type": "markdown",
   "metadata": {},
   "source": [
    "### Pure function"
   ]
  },
  {
   "cell_type": "code",
   "execution_count": 28,
   "metadata": {},
   "outputs": [
    {
     "name": "stdout",
     "output_type": "stream",
     "text": [
      "45.2 ms ± 1.42 ms per loop (mean ± std. dev. of 7 runs, 10 loops each)\n"
     ]
    }
   ],
   "source": [
    "%timeit solve_1d_burger_pure(u, un, nt, nx, dt, dx, nu)"
   ]
  },
  {
   "cell_type": "markdown",
   "metadata": {},
   "source": [
    "### Function with numba accelerator"
   ]
  },
  {
   "cell_type": "code",
   "execution_count": 29,
   "metadata": {},
   "outputs": [
    {
     "name": "stdout",
     "output_type": "stream",
     "text": [
      "952 µs ± 5.92 µs per loop (mean ± std. dev. of 7 runs, 1 loop each)\n"
     ]
    }
   ],
   "source": [
    "%timeit solve_1d_burger_numba(u, un, nt, nx, dt, dx, nu)"
   ]
  },
  {
   "cell_type": "markdown",
   "metadata": {},
   "source": [
    "### Function with pyccel accelerator"
   ]
  },
  {
   "cell_type": "code",
   "execution_count": 30,
   "metadata": {},
   "outputs": [
    {
     "name": "stdout",
     "output_type": "stream",
     "text": [
      "895 µs ± 287 ns per loop (mean ± std. dev. of 7 runs, 1000 loops each)\n"
     ]
    }
   ],
   "source": [
    "solve_1d_burger_f90 = epyccel(solve_1d_burger_pyccel)\n",
    "%timeit solve_1d_burger_f90(u, un, nt, nx, dt, dx, nu)"
   ]
  },
  {
   "cell_type": "code",
   "execution_count": null,
   "metadata": {},
   "outputs": [],
   "source": []
  }
 ],
 "metadata": {
  "kernelspec": {
   "display_name": "Python 3",
   "language": "python",
   "name": "python3"
  },
  "language_info": {
   "codemirror_mode": {
    "name": "ipython",
    "version": 3
   },
   "file_extension": ".py",
   "mimetype": "text/x-python",
   "name": "python",
   "nbconvert_exporter": "python",
   "pygments_lexer": "ipython3",
   "version": "3.8.5"
  }
 },
 "nbformat": 4,
 "nbformat_minor": 2
}
